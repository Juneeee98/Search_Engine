{
 "cells": [
  {
   "cell_type": "markdown",
   "metadata": {
    "id": "mKoVRkLuL3No"
   },
   "source": [
    "# Dataset Analysis"
   ]
  },
  {
   "cell_type": "markdown",
   "metadata": {
    "id": "eahlVeVtLmGB"
   },
   "source": [
    "### Dataset: https://www.yelp.com/dataset\n",
    "\n",
    "### Documentation: https://www.yelp.com/dataset/documentation/main\n",
    "\n"
   ]
  },
  {
   "cell_type": "code",
   "execution_count": 3,
   "metadata": {},
   "outputs": [
    {
     "name": "stdout",
     "output_type": "stream",
     "text": [
      "Collecting wordcloud\n",
      "  Downloading wordcloud-1.9.3-cp312-cp312-macosx_11_0_arm64.whl.metadata (3.4 kB)\n",
      "Requirement already satisfied: numpy>=1.6.1 in /opt/anaconda3/lib/python3.12/site-packages (from wordcloud) (1.26.4)\n",
      "Requirement already satisfied: pillow in /opt/anaconda3/lib/python3.12/site-packages (from wordcloud) (10.3.0)\n",
      "Requirement already satisfied: matplotlib in /opt/anaconda3/lib/python3.12/site-packages (from wordcloud) (3.8.4)\n",
      "Requirement already satisfied: contourpy>=1.0.1 in /opt/anaconda3/lib/python3.12/site-packages (from matplotlib->wordcloud) (1.2.0)\n",
      "Requirement already satisfied: cycler>=0.10 in /opt/anaconda3/lib/python3.12/site-packages (from matplotlib->wordcloud) (0.11.0)\n",
      "Requirement already satisfied: fonttools>=4.22.0 in /opt/anaconda3/lib/python3.12/site-packages (from matplotlib->wordcloud) (4.51.0)\n",
      "Requirement already satisfied: kiwisolver>=1.3.1 in /opt/anaconda3/lib/python3.12/site-packages (from matplotlib->wordcloud) (1.4.4)\n",
      "Requirement already satisfied: packaging>=20.0 in /opt/anaconda3/lib/python3.12/site-packages (from matplotlib->wordcloud) (23.2)\n",
      "Requirement already satisfied: pyparsing>=2.3.1 in /opt/anaconda3/lib/python3.12/site-packages (from matplotlib->wordcloud) (3.0.9)\n",
      "Requirement already satisfied: python-dateutil>=2.7 in /opt/anaconda3/lib/python3.12/site-packages (from matplotlib->wordcloud) (2.9.0.post0)\n",
      "Requirement already satisfied: six>=1.5 in /opt/anaconda3/lib/python3.12/site-packages (from python-dateutil>=2.7->matplotlib->wordcloud) (1.16.0)\n",
      "Downloading wordcloud-1.9.3-cp312-cp312-macosx_11_0_arm64.whl (169 kB)\n",
      "\u001b[2K   \u001b[90m━━━━━━━━━━━━━━━━━━━━━━━━━━━━━━━━━━━━━━━\u001b[0m \u001b[32m169.4/169.4 kB\u001b[0m \u001b[31m833.3 kB/s\u001b[0m eta \u001b[36m0:00:00\u001b[0m \u001b[36m0:00:01\u001b[0mm\n",
      "\u001b[?25hInstalling collected packages: wordcloud\n",
      "Successfully installed wordcloud-1.9.3\n"
     ]
    }
   ],
   "source": [
    "!pip install wordcloud"
   ]
  },
  {
   "cell_type": "code",
   "execution_count": 4,
   "metadata": {
    "id": "RT10Bp_qMBe-"
   },
   "outputs": [],
   "source": [
    "# importing necessary libraries\n",
    "import pandas as pd\n",
    "import json\n",
    "import matplotlib.pyplot as plt\n",
    "import numpy as np\n",
    "from wordcloud import WordCloud\n",
    "import nltk\n",
    "from nltk.corpus import stopwords\n",
    "from nltk.tokenize import word_tokenize\n",
    "from nltk.stem import PorterStemmer\n",
    "from collections import Counter"
   ]
  },
  {
   "cell_type": "markdown",
   "metadata": {},
   "source": [
    "### Data Sampling"
   ]
  },
  {
   "cell_type": "code",
   "execution_count": 7,
   "metadata": {
    "id": "nlk7kho6LoCX"
   },
   "outputs": [],
   "source": [
    "# Loading the business and review data\n",
    "business_file = 'yelp_dataset/yelp_academic_dataset_business.json'\n",
    "review_file = 'yelp_dataset/yelp_academic_dataset_review.json'"
   ]
  },
  {
   "cell_type": "code",
   "execution_count": 8,
   "metadata": {
    "colab": {
     "base_uri": "https://localhost:8080/",
     "height": 304
    },
    "id": "uid2ItwoNHuU",
    "outputId": "43355ef8-9601-49a0-a937-38d78bfbe6d7"
   },
   "outputs": [],
   "source": [
    "# Load the business data from the JSON file into a DataFrame\n",
    "business_data = pd.read_json(business_file, lines=True)"
   ]
  },
  {
   "cell_type": "markdown",
   "metadata": {
    "id": "3rf41LY4N4Bo"
   },
   "source": [
    "Metropolitan Area Chosen: Idaho"
   ]
  },
  {
   "cell_type": "code",
   "execution_count": 9,
   "metadata": {},
   "outputs": [],
   "source": [
    "# Filter businesses located in Idaho\n",
    "idaho_businesses = business_data[business_data['state'] == 'ID']"
   ]
  },
  {
   "cell_type": "code",
   "execution_count": 10,
   "metadata": {},
   "outputs": [],
   "source": [
    "def filter_reviews_for_business_ids(review_file, business_ids):\n",
    "    chunksize = 100000  # Process 100,000 reviews at a time\n",
    "    filtered_reviews = []\n",
    "    \n",
    "    with pd.read_json(review_file, lines=True, chunksize=chunksize) as reader:\n",
    "        for chunk in reader:\n",
    "            # Filter reviews where business_id is in the Idaho business list\n",
    "            filtered_chunk = chunk[chunk['business_id'].isin(business_ids)]\n",
    "            filtered_reviews.append(filtered_chunk)\n",
    "    \n",
    "    # Concatenate all filtered chunks\n",
    "    return pd.concat(filtered_reviews, ignore_index=True)"
   ]
  },
  {
   "cell_type": "code",
   "execution_count": 11,
   "metadata": {},
   "outputs": [],
   "source": [
    "# Get list of business_ids for Idaho businesses\n",
    "idaho_business_ids = idaho_businesses['business_id'].tolist()"
   ]
  },
  {
   "cell_type": "code",
   "execution_count": 12,
   "metadata": {},
   "outputs": [],
   "source": [
    "# Filter reviews for Idaho businesses\n",
    "idaho_reviews = filter_reviews_for_business_ids(review_file, idaho_business_ids)"
   ]
  },
  {
   "cell_type": "code",
   "execution_count": 13,
   "metadata": {},
   "outputs": [],
   "source": [
    "# Combine Idaho Business and Review Data\n",
    "idaho_data = pd.merge(idaho_reviews, idaho_businesses, on='business_id', how='inner')\n",
    "idaho_data.rename(columns={'stars_x': 'review_rating', 'stars_y': 'business_rating'}, inplace=True)"
   ]
  },
  {
   "cell_type": "code",
   "execution_count": 14,
   "metadata": {},
   "outputs": [
    {
     "name": "stdout",
     "output_type": "stream",
     "text": [
      "Idaho data has been saved to 'idaho_combined_data.csv'.\n"
     ]
    }
   ],
   "source": [
    "# Save the idaho_data DataFrame to a new CSV file\n",
    "idaho_data.to_csv('idaho_combined_data.csv', index=False)\n",
    "\n",
    "print(\"Idaho data has been saved to 'idaho_combined_data.csv'.\")"
   ]
  },
  {
   "cell_type": "code",
   "execution_count": 15,
   "metadata": {},
   "outputs": [],
   "source": [
    "# Load the combined data from the CSV file\n",
    "idaho_data = pd.read_csv('idaho_combined_data.csv')"
   ]
  },
  {
   "cell_type": "code",
   "execution_count": 18,
   "metadata": {},
   "outputs": [
    {
     "data": {
      "text/html": [
       "<div>\n",
       "<style scoped>\n",
       "    .dataframe tbody tr th:only-of-type {\n",
       "        vertical-align: middle;\n",
       "    }\n",
       "\n",
       "    .dataframe tbody tr th {\n",
       "        vertical-align: top;\n",
       "    }\n",
       "\n",
       "    .dataframe thead th {\n",
       "        text-align: right;\n",
       "    }\n",
       "</style>\n",
       "<table border=\"1\" class=\"dataframe\">\n",
       "  <thead>\n",
       "    <tr style=\"text-align: right;\">\n",
       "      <th></th>\n",
       "      <th>review_id</th>\n",
       "      <th>user_id</th>\n",
       "      <th>business_id</th>\n",
       "      <th>review_rating</th>\n",
       "      <th>useful</th>\n",
       "      <th>funny</th>\n",
       "      <th>cool</th>\n",
       "      <th>text</th>\n",
       "      <th>date</th>\n",
       "      <th>name</th>\n",
       "      <th>...</th>\n",
       "      <th>state</th>\n",
       "      <th>postal_code</th>\n",
       "      <th>latitude</th>\n",
       "      <th>longitude</th>\n",
       "      <th>business_rating</th>\n",
       "      <th>review_count</th>\n",
       "      <th>is_open</th>\n",
       "      <th>attributes</th>\n",
       "      <th>categories</th>\n",
       "      <th>hours</th>\n",
       "    </tr>\n",
       "  </thead>\n",
       "  <tbody>\n",
       "    <tr>\n",
       "      <th>0</th>\n",
       "      <td>Lk21QNbrI_e3nf0GvWSPww</td>\n",
       "      <td>bCla27ma_6i_QFrGkILKrQ</td>\n",
       "      <td>sLgnx_WFCjEoPsS6NwU70Q</td>\n",
       "      <td>5</td>\n",
       "      <td>0</td>\n",
       "      <td>0</td>\n",
       "      <td>0</td>\n",
       "      <td>Our family returned for breakfast again this w...</td>\n",
       "      <td>2014-10-27 16:31:37</td>\n",
       "      <td>Le Peep</td>\n",
       "      <td>...</td>\n",
       "      <td>ID</td>\n",
       "      <td>83646</td>\n",
       "      <td>43.632783</td>\n",
       "      <td>-116.352393</td>\n",
       "      <td>4.0</td>\n",
       "      <td>259</td>\n",
       "      <td>1</td>\n",
       "      <td>{'WheelchairAccessible': 'True', 'BusinessPark...</td>\n",
       "      <td>Event Planning &amp; Services, Salad, Caterers, Am...</td>\n",
       "      <td>{'Monday': '7:0-14:0', 'Tuesday': '7:0-14:0', ...</td>\n",
       "    </tr>\n",
       "    <tr>\n",
       "      <th>1</th>\n",
       "      <td>r1tPwFMILy0COeEQ-B3YLw</td>\n",
       "      <td>3M1_pyDSgMP6sRMz564eJw</td>\n",
       "      <td>8xM8akbQhHDQdJO1sPMB1A</td>\n",
       "      <td>5</td>\n",
       "      <td>0</td>\n",
       "      <td>0</td>\n",
       "      <td>0</td>\n",
       "      <td>I had the pleasure to meet with Ann today and ...</td>\n",
       "      <td>2018-07-26 09:15:30</td>\n",
       "      <td>Black Rock Coffee Bar</td>\n",
       "      <td>...</td>\n",
       "      <td>ID</td>\n",
       "      <td>83704</td>\n",
       "      <td>43.619175</td>\n",
       "      <td>-116.280731</td>\n",
       "      <td>4.5</td>\n",
       "      <td>7</td>\n",
       "      <td>1</td>\n",
       "      <td>{'WiFi': \"'free'\", 'RestaurantsPriceRange2': '...</td>\n",
       "      <td>Coffee &amp; Tea, Food</td>\n",
       "      <td>{'Monday': '0:0-0:0', 'Tuesday': '5:0-21:0', '...</td>\n",
       "    </tr>\n",
       "    <tr>\n",
       "      <th>2</th>\n",
       "      <td>rHrhsfMGmYfCGiN8Ul02qQ</td>\n",
       "      <td>x67HAnA_-ukgw9qwyMVOhQ</td>\n",
       "      <td>Cu8ysHKiZmJKRY9nF3Hzsw</td>\n",
       "      <td>5</td>\n",
       "      <td>0</td>\n",
       "      <td>0</td>\n",
       "      <td>0</td>\n",
       "      <td>These guys do good work, on time, and warranty...</td>\n",
       "      <td>2016-10-26 15:25:30</td>\n",
       "      <td>Perfect Plumbing Heating &amp; Air</td>\n",
       "      <td>...</td>\n",
       "      <td>ID</td>\n",
       "      <td>83714</td>\n",
       "      <td>43.632087</td>\n",
       "      <td>-116.249465</td>\n",
       "      <td>3.5</td>\n",
       "      <td>83</td>\n",
       "      <td>1</td>\n",
       "      <td>{'BusinessAcceptsCreditCards': 'True', 'ByAppo...</td>\n",
       "      <td>Heating &amp; Air Conditioning/HVAC, Water Heater ...</td>\n",
       "      <td>{'Monday': '0:0-0:0', 'Tuesday': '0:0-0:0', 'W...</td>\n",
       "    </tr>\n",
       "    <tr>\n",
       "      <th>3</th>\n",
       "      <td>BiETNEHMCcmUWQDJMHQQqA</td>\n",
       "      <td>GNPPfbW6VzB3wjo5vPO5ug</td>\n",
       "      <td>kgeiJzWSiXPnf-3wx7LHIQ</td>\n",
       "      <td>3</td>\n",
       "      <td>0</td>\n",
       "      <td>0</td>\n",
       "      <td>0</td>\n",
       "      <td>Three stars not because of food, the food is g...</td>\n",
       "      <td>2017-01-28 01:42:58</td>\n",
       "      <td>Panera Bread</td>\n",
       "      <td>...</td>\n",
       "      <td>ID</td>\n",
       "      <td>83646</td>\n",
       "      <td>43.636106</td>\n",
       "      <td>-116.354792</td>\n",
       "      <td>3.0</td>\n",
       "      <td>81</td>\n",
       "      <td>1</td>\n",
       "      <td>{'Alcohol': \"'none'\", 'NoiseLevel': \"u'average...</td>\n",
       "      <td>Sandwiches, Salad, Soup, Restaurants</td>\n",
       "      <td>{'Monday': '7:0-20:0', 'Tuesday': '7:0-20:0', ...</td>\n",
       "    </tr>\n",
       "    <tr>\n",
       "      <th>4</th>\n",
       "      <td>IWflChcWypgf2Vlsm1WT5A</td>\n",
       "      <td>q3NoRGSIqKxdrmzNzURXeQ</td>\n",
       "      <td>4FaYG9qKDpDyr68bKmaIEw</td>\n",
       "      <td>5</td>\n",
       "      <td>0</td>\n",
       "      <td>0</td>\n",
       "      <td>0</td>\n",
       "      <td>My husband took me here for our Anniversary an...</td>\n",
       "      <td>2018-02-02 02:16:19</td>\n",
       "      <td>Capitol Cellars</td>\n",
       "      <td>...</td>\n",
       "      <td>ID</td>\n",
       "      <td>83702</td>\n",
       "      <td>43.613573</td>\n",
       "      <td>-116.199904</td>\n",
       "      <td>4.0</td>\n",
       "      <td>176</td>\n",
       "      <td>1</td>\n",
       "      <td>{'Smoking': \"u'no'\", 'RestaurantsGoodForGroups...</td>\n",
       "      <td>Restaurants, Bars, Wine Bars, American (Tradit...</td>\n",
       "      <td>{'Monday': '0:0-0:0', 'Tuesday': '11:30-21:0',...</td>\n",
       "    </tr>\n",
       "  </tbody>\n",
       "</table>\n",
       "<p>5 rows × 22 columns</p>\n",
       "</div>"
      ],
      "text/plain": [
       "                review_id                 user_id             business_id  \\\n",
       "0  Lk21QNbrI_e3nf0GvWSPww  bCla27ma_6i_QFrGkILKrQ  sLgnx_WFCjEoPsS6NwU70Q   \n",
       "1  r1tPwFMILy0COeEQ-B3YLw  3M1_pyDSgMP6sRMz564eJw  8xM8akbQhHDQdJO1sPMB1A   \n",
       "2  rHrhsfMGmYfCGiN8Ul02qQ  x67HAnA_-ukgw9qwyMVOhQ  Cu8ysHKiZmJKRY9nF3Hzsw   \n",
       "3  BiETNEHMCcmUWQDJMHQQqA  GNPPfbW6VzB3wjo5vPO5ug  kgeiJzWSiXPnf-3wx7LHIQ   \n",
       "4  IWflChcWypgf2Vlsm1WT5A  q3NoRGSIqKxdrmzNzURXeQ  4FaYG9qKDpDyr68bKmaIEw   \n",
       "\n",
       "   review_rating  useful  funny  cool  \\\n",
       "0              5       0      0     0   \n",
       "1              5       0      0     0   \n",
       "2              5       0      0     0   \n",
       "3              3       0      0     0   \n",
       "4              5       0      0     0   \n",
       "\n",
       "                                                text                 date  \\\n",
       "0  Our family returned for breakfast again this w...  2014-10-27 16:31:37   \n",
       "1  I had the pleasure to meet with Ann today and ...  2018-07-26 09:15:30   \n",
       "2  These guys do good work, on time, and warranty...  2016-10-26 15:25:30   \n",
       "3  Three stars not because of food, the food is g...  2017-01-28 01:42:58   \n",
       "4  My husband took me here for our Anniversary an...  2018-02-02 02:16:19   \n",
       "\n",
       "                             name  ... state postal_code   latitude  \\\n",
       "0                         Le Peep  ...    ID       83646  43.632783   \n",
       "1           Black Rock Coffee Bar  ...    ID       83704  43.619175   \n",
       "2  Perfect Plumbing Heating & Air  ...    ID       83714  43.632087   \n",
       "3                    Panera Bread  ...    ID       83646  43.636106   \n",
       "4                 Capitol Cellars  ...    ID       83702  43.613573   \n",
       "\n",
       "    longitude  business_rating  review_count  is_open  \\\n",
       "0 -116.352393              4.0           259        1   \n",
       "1 -116.280731              4.5             7        1   \n",
       "2 -116.249465              3.5            83        1   \n",
       "3 -116.354792              3.0            81        1   \n",
       "4 -116.199904              4.0           176        1   \n",
       "\n",
       "                                          attributes  \\\n",
       "0  {'WheelchairAccessible': 'True', 'BusinessPark...   \n",
       "1  {'WiFi': \"'free'\", 'RestaurantsPriceRange2': '...   \n",
       "2  {'BusinessAcceptsCreditCards': 'True', 'ByAppo...   \n",
       "3  {'Alcohol': \"'none'\", 'NoiseLevel': \"u'average...   \n",
       "4  {'Smoking': \"u'no'\", 'RestaurantsGoodForGroups...   \n",
       "\n",
       "                                          categories  \\\n",
       "0  Event Planning & Services, Salad, Caterers, Am...   \n",
       "1                                 Coffee & Tea, Food   \n",
       "2  Heating & Air Conditioning/HVAC, Water Heater ...   \n",
       "3               Sandwiches, Salad, Soup, Restaurants   \n",
       "4  Restaurants, Bars, Wine Bars, American (Tradit...   \n",
       "\n",
       "                                               hours  \n",
       "0  {'Monday': '7:0-14:0', 'Tuesday': '7:0-14:0', ...  \n",
       "1  {'Monday': '0:0-0:0', 'Tuesday': '5:0-21:0', '...  \n",
       "2  {'Monday': '0:0-0:0', 'Tuesday': '0:0-0:0', 'W...  \n",
       "3  {'Monday': '7:0-20:0', 'Tuesday': '7:0-20:0', ...  \n",
       "4  {'Monday': '0:0-0:0', 'Tuesday': '11:30-21:0',...  \n",
       "\n",
       "[5 rows x 22 columns]"
      ]
     },
     "execution_count": 18,
     "metadata": {},
     "output_type": "execute_result"
    }
   ],
   "source": [
    "idaho_data.head()"
   ]
  },
  {
   "cell_type": "code",
   "execution_count": 11,
   "metadata": {},
   "outputs": [
    {
     "name": "stdout",
     "output_type": "stream",
     "text": [
      "Total number of unique businesses in Idaho: 4467\n",
      "Total number of reviews for Idaho businesses: 157572\n",
      "Average business rating in Idaho: 3.76\n",
      "Average review length (in characters): 537.98\n",
      "Average number of reviews per business: 35\n",
      "Maximum reviews for a business: 1872\n",
      "Minimum reviews for a business: 5\n"
     ]
    }
   ],
   "source": [
    "# Basic statistics about Idaho businesses and reviews\n",
    "total_businesses = idaho_data['business_id'].nunique()  # Unique businesses\n",
    "total_reviews = idaho_data.shape[0]  # Total number of reviews\n",
    "\n",
    "# Average business rating (from the original business rating)\n",
    "average_business_rating = idaho_data['business_rating'].mean()\n",
    "# Average review rating (from the review ratings)\n",
    "average_review_rating = idaho_data['review_rating'].mean()\n",
    "\n",
    "# Average review length (in characters)\n",
    "average_review_length = idaho_data['text'].apply(len).mean()  # Assuming 'text' contains the review content\n",
    "\n",
    "# Number of reviews per business\n",
    "reviews_per_business = idaho_data.groupby('business_id')['text'].count()\n",
    "\n",
    "# Average and max/min reviews per business\n",
    "average_reviews_per_business = reviews_per_business.mean()\n",
    "max_reviews_per_business = reviews_per_business.max()\n",
    "min_reviews_per_business = reviews_per_business.min()\n",
    "\n",
    "# Print the statistics\n",
    "print(f\"Total number of unique businesses in Idaho: {total_businesses}\")\n",
    "print(f\"Total number of reviews for Idaho businesses: {total_reviews}\")\n",
    "print(f\"Average business rating in Idaho: {average_business_rating:.2f}\")\n",
    "print(f\"Average review length (in characters): {average_review_length:.2f}\")\n",
    "print(f\"Average number of reviews per business: {average_reviews_per_business:.0f}\")\n",
    "print(f\"Maximum reviews for a business: {max_reviews_per_business}\")\n",
    "print(f\"Minimum reviews for a business: {min_reviews_per_business}\")"
   ]
  },
  {
   "cell_type": "markdown",
   "metadata": {},
   "source": [
    "### Tokenization and Stemming"
   ]
  },
  {
   "cell_type": "code",
   "execution_count": 16,
   "metadata": {},
   "outputs": [
    {
     "name": "stderr",
     "output_type": "stream",
     "text": [
      "[nltk_data] Downloading package stopwords to\n",
      "[nltk_data]     /Users/guocheng/nltk_data...\n",
      "[nltk_data]   Unzipping corpora/stopwords.zip.\n",
      "[nltk_data] Downloading package punkt to /Users/guocheng/nltk_data...\n",
      "[nltk_data]   Unzipping tokenizers/punkt.zip.\n"
     ]
    },
    {
     "data": {
      "text/plain": [
       "True"
      ]
     },
     "execution_count": 16,
     "metadata": {},
     "output_type": "execute_result"
    }
   ],
   "source": [
    "# Downloading required NLTK resources\n",
    "nltk.download('stopwords')\n",
    "nltk.download('punkt')"
   ]
  },
  {
   "cell_type": "code",
   "execution_count": 17,
   "metadata": {},
   "outputs": [],
   "source": [
    "# Random Business Selection\n",
    "random_businesses = idaho_data['business_id'].sample(2, random_state=1).tolist()\n",
    "b1, b2 = random_businesses"
   ]
  },
  {
   "cell_type": "code",
   "execution_count": 26,
   "metadata": {},
   "outputs": [
    {
     "data": {
      "text/plain": [
       "('hs2LaDxJLgqGuDq3dyiQhQ', '7AkkPs8k-GApX8BwN1es7A')"
      ]
     },
     "execution_count": 26,
     "metadata": {},
     "output_type": "execute_result"
    }
   ],
   "source": [
    "b1, b2 #= ('hs2LaDxJLgqGuDq3dyiQhQ', '7AkkPs8k-GApX8BwN1es7A')"
   ]
  },
  {
   "cell_type": "code",
   "execution_count": 30,
   "metadata": {},
   "outputs": [
    {
     "data": {
      "text/html": [
       "<div>\n",
       "<style scoped>\n",
       "    .dataframe tbody tr th:only-of-type {\n",
       "        vertical-align: middle;\n",
       "    }\n",
       "\n",
       "    .dataframe tbody tr th {\n",
       "        vertical-align: top;\n",
       "    }\n",
       "\n",
       "    .dataframe thead th {\n",
       "        text-align: right;\n",
       "    }\n",
       "</style>\n",
       "<table border=\"1\" class=\"dataframe\">\n",
       "  <thead>\n",
       "    <tr style=\"text-align: right;\">\n",
       "      <th></th>\n",
       "      <th>business_id</th>\n",
       "      <th>name</th>\n",
       "      <th>address</th>\n",
       "      <th>city</th>\n",
       "      <th>state</th>\n",
       "      <th>postal_code</th>\n",
       "      <th>latitude</th>\n",
       "      <th>longitude</th>\n",
       "      <th>stars</th>\n",
       "      <th>review_count</th>\n",
       "      <th>is_open</th>\n",
       "      <th>attributes</th>\n",
       "      <th>categories</th>\n",
       "      <th>hours</th>\n",
       "    </tr>\n",
       "  </thead>\n",
       "  <tbody>\n",
       "    <tr>\n",
       "      <th>37247</th>\n",
       "      <td>hs2LaDxJLgqGuDq3dyiQhQ</td>\n",
       "      <td>Bliss Events</td>\n",
       "      <td></td>\n",
       "      <td>Boise</td>\n",
       "      <td>ID</td>\n",
       "      <td>83702</td>\n",
       "      <td>43.662439</td>\n",
       "      <td>-116.163043</td>\n",
       "      <td>4.5</td>\n",
       "      <td>17</td>\n",
       "      <td>1</td>\n",
       "      <td>{'BusinessAcceptsCreditCards': 'True'}</td>\n",
       "      <td>Party &amp; Event Planning, Event Planning &amp; Servi...</td>\n",
       "      <td>{'Tuesday': '10:0-15:0', 'Wednesday': '10:0-15...</td>\n",
       "    </tr>\n",
       "  </tbody>\n",
       "</table>\n",
       "</div>"
      ],
      "text/plain": [
       "                  business_id          name address   city state postal_code  \\\n",
       "37247  hs2LaDxJLgqGuDq3dyiQhQ  Bliss Events          Boise    ID       83702   \n",
       "\n",
       "        latitude   longitude  stars  review_count  is_open  \\\n",
       "37247  43.662439 -116.163043    4.5            17        1   \n",
       "\n",
       "                                   attributes  \\\n",
       "37247  {'BusinessAcceptsCreditCards': 'True'}   \n",
       "\n",
       "                                              categories  \\\n",
       "37247  Party & Event Planning, Event Planning & Servi...   \n",
       "\n",
       "                                                   hours  \n",
       "37247  {'Tuesday': '10:0-15:0', 'Wednesday': '10:0-15...  "
      ]
     },
     "execution_count": 30,
     "metadata": {},
     "output_type": "execute_result"
    }
   ],
   "source": [
    "# Print Business Names\n",
    "B1_name = idaho_businesses[idaho_businesses['business_id'] == b1]\n",
    "B2_name = idaho_businesses[idaho_businesses['business_id'] == b2]\n",
    "\n",
    "#pd.concat([B1_name, B2_name])\n",
    "B1_name.head()\n"
   ]
  },
  {
   "cell_type": "code",
   "execution_count": 32,
   "metadata": {},
   "outputs": [],
   "source": [
    "# Extract reviews for B1 and B2\n",
    "B1_reviews = idaho_data[idaho_data['business_id'] == b1]['text']\n",
    "B2_reviews = idaho_data[idaho_data['business_id'] == b2]['text']"
   ]
  },
  {
   "cell_type": "code",
   "execution_count": 33,
   "metadata": {},
   "outputs": [],
   "source": [
    "# Function to remove stopwords only (no stemming)\n",
    "def remove_stopwords(reviews):\n",
    "    stop_words = set(stopwords.words('english'))  # Stopword list\n",
    "    filtered_reviews = []\n",
    "    for review in reviews:\n",
    "        # Tokenization\n",
    "        tokens = word_tokenize(review.lower())  # Lowercase and tokenize\n",
    "        # Remove stopwords and non-alphabetic tokens\n",
    "        filtered_tokens = [word for word in tokens if word not in stop_words and word.isalpha()]\n",
    "        filtered_reviews.append(filtered_tokens)\n",
    "    return filtered_reviews\n",
    "\n",
    "# Function to tokenize, remove stopwords, and apply stemming\n",
    "def preprocess_reviews(reviews):\n",
    "    ps = PorterStemmer()  # Initializing the stemming algorithm\n",
    "    stop_words = set(stopwords.words('english'))  # List of English stopwords for removal\n",
    "\n",
    "    tokenized_reviews = []\n",
    "    for review in reviews:\n",
    "        tokens = word_tokenize(review.lower())  # Convert to lowercase and tokenize\n",
    "        filtered_tokens = [word for word in tokens if word not in stop_words and word.isalpha()]  # Keep only alphabetic tokens\n",
    "        stemmed_tokens = [ps.stem(word) for word in filtered_tokens]  # Apply stemming\n",
    "        tokenized_reviews.append(stemmed_tokens)\n",
    "    return tokenized_reviews"
   ]
  },
  {
   "cell_type": "code",
   "execution_count": 34,
   "metadata": {},
   "outputs": [],
   "source": [
    "# Remove stopwords only (for B1 and B2)\n",
    "B1 = remove_stopwords(B1_reviews)\n",
    "B2 = remove_stopwords(B2_reviews)\n",
    "\n",
    "# Tokenization, stopword removal, and stemming (for B1_processed and B2_processed)\n",
    "B1_processed = preprocess_reviews(B1_reviews)\n",
    "B2_processed = preprocess_reviews(B2_reviews)"
   ]
  },
  {
   "cell_type": "code",
   "execution_count": 35,
   "metadata": {},
   "outputs": [],
   "source": [
    "B1_rev_lengths = [len(review) for review in B1]\n",
    "B2_rev_lengths = [len(review) for review in B2]\n",
    "\n",
    "B1_avg_rev = sum(B1_rev_lengths)/len(B1_rev_lengths)\n",
    "B2_avg_rev = sum(B2_rev_lengths)/len(B2_rev_lengths)"
   ]
  },
  {
   "cell_type": "code",
   "execution_count": 36,
   "metadata": {},
   "outputs": [
    {
     "data": {
      "text/plain": [
       "(145.11764705882354, 44.768)"
      ]
     },
     "execution_count": 36,
     "metadata": {},
     "output_type": "execute_result"
    }
   ],
   "source": [
    "B1_avg_rev, B2_avg_rev"
   ]
  },
  {
   "cell_type": "code",
   "execution_count": 37,
   "metadata": {},
   "outputs": [],
   "source": [
    "# Calculate word frequency \n",
    "def calculate_word_frequency(reviews):\n",
    "    all_words = [word for review in reviews for word in review]  # Flatten the processed reviews\n",
    "    return Counter(all_words)  # Count word frequencies\n",
    "\n",
    "# Calculate word frequencies for B1 and B2 before stemming\n",
    "B1_word_freq_before = calculate_word_frequency(B1)\n",
    "B2_word_freq_before = calculate_word_frequency(B2)\n",
    "\n",
    "# Calculate word frequencies for B1 and B2 after stemming\n",
    "B1_word_freq_after = calculate_word_frequency(B1_processed)\n",
    "B2_word_freq_after = calculate_word_frequency(B2_processed)"
   ]
  },
  {
   "cell_type": "code",
   "execution_count": 38,
   "metadata": {},
   "outputs": [
    {
     "name": "stderr",
     "output_type": "stream",
     "text": [
      "/var/folders/ys/njs5n_kj34q1z3fs8ww_j3640000gn/T/ipykernel_5206/2060352932.py:17: UserWarning: set_ticklabels() should only be used with a fixed number of ticks, i.e. after set_ticks() or using a FixedLocator.\n",
      "  axes[0].set_xticklabels(words_B1, rotation=45, ha='right')\n",
      "/var/folders/ys/njs5n_kj34q1z3fs8ww_j3640000gn/T/ipykernel_5206/2060352932.py:25: UserWarning: set_ticklabels() should only be used with a fixed number of ticks, i.e. after set_ticks() or using a FixedLocator.\n",
      "  axes[1].set_xticklabels(words_B2, rotation=45, ha='right')\n"
     ]
    },
    {
     "data": {
      "image/png": "[encoded data removed]",
      "text/plain": [
       "<Figure size 1400x600 with 2 Axes>"
      ]
     },
     "metadata": {},
     "output_type": "display_data"
    },
    {
     "name": "stderr",
     "output_type": "stream",
     "text": [
      "/var/folders/ys/njs5n_kj34q1z3fs8ww_j3640000gn/T/ipykernel_5206/2060352932.py:17: UserWarning: set_ticklabels() should only be used with a fixed number of ticks, i.e. after set_ticks() or using a FixedLocator.\n",
      "  axes[0].set_xticklabels(words_B1, rotation=45, ha='right')\n",
      "/var/folders/ys/njs5n_kj34q1z3fs8ww_j3640000gn/T/ipykernel_5206/2060352932.py:25: UserWarning: set_ticklabels() should only be used with a fixed number of ticks, i.e. after set_ticks() or using a FixedLocator.\n",
      "  axes[1].set_xticklabels(words_B2, rotation=45, ha='right')\n"
     ]
    },
    {
     "data": {
      "image/png": "[encoded data removed]",
      "text/plain": [
       "<Figure size 1400x600 with 2 Axes>"
      ]
     },
     "metadata": {},
     "output_type": "display_data"
    }
   ],
   "source": [
    "import matplotlib.pyplot as plt\n",
    "\n",
    "# Function to plot word frequency distribution side by side for B1 and B2\n",
    "def plot_word_freq_side_by_side(word_freq_B1, word_freq_B2, title_B1, title_B2, color_before='blue', color_after='green'):\n",
    "    # Sort word frequencies in descending order (Top 20 words)\n",
    "    sorted_word_freq_B1 = word_freq_B1.most_common(20)\n",
    "    sorted_word_freq_B2 = word_freq_B2.most_common(20)\n",
    "    \n",
    "    words_B1, freqs_B1 = zip(*sorted_word_freq_B1)\n",
    "    words_B2, freqs_B2 = zip(*sorted_word_freq_B2)\n",
    "\n",
    "    fig, axes = plt.subplots(1, 2, figsize=(14, 6))  # Two side-by-side plots\n",
    "\n",
    "    # Plot for B1 (Before Stemming)\n",
    "    axes[0].bar(words_B1, freqs_B1, color=color_before)\n",
    "    axes[0].set_yscale('log')  # Set y-axis to log scale\n",
    "    axes[0].set_xticklabels(words_B1, rotation=45, ha='right')\n",
    "    axes[0].set_title(title_B1)\n",
    "    axes[0].set_xlabel('Words')\n",
    "    axes[0].set_ylabel('Frequency (Log Scale)')\n",
    "\n",
    "    # Plot for B2 (After Stemming)\n",
    "    axes[1].bar(words_B2, freqs_B2, color=color_after)\n",
    "    axes[1].set_yscale('log')  # Set y-axis to log scale\n",
    "    axes[1].set_xticklabels(words_B2, rotation=45, ha='right')\n",
    "    axes[1].set_title(title_B2)\n",
    "    axes[1].set_xlabel('Words')\n",
    "    axes[1].set_ylabel('Frequency (Log Scale)')\n",
    "\n",
    "    plt.tight_layout()\n",
    "    plt.show()\n",
    "\n",
    "# Plot for B1 before and after stemming\n",
    "plot_word_freq_side_by_side(B1_word_freq_before, B1_word_freq_after, \n",
    "                            \"Word Frequency in B1 (Before Stemming)\", \n",
    "                            \"Word Frequency in B1 (After Stemming)\", \n",
    "                            color_before='blue', color_after='green')\n",
    "\n",
    "# Plot for B2 before and after stemming\n",
    "plot_word_freq_side_by_side(B2_word_freq_before, B2_word_freq_after, \n",
    "                            \"Word Frequency in B2 (Before Stemming)\", \n",
    "                            \"Word Frequency in B2 (After Stemming)\", \n",
    "                            color_before='blue', color_after='green')\n"
   ]
  },
  {
   "cell_type": "code",
   "execution_count": 39,
   "metadata": {},
   "outputs": [
    {
     "name": "stdout",
     "output_type": "stream",
     "text": [
      "Top 10 most frequent words in B1 before stemming: [('bliss', 81), ('wedding', 79), ('day', 51), ('could', 20), ('made', 20), ('teresa', 19), ('every', 19), ('planning', 17), ('would', 17), ('us', 14)] \n",
      "\n",
      "Top 10 most frequent words in B1 after stemming: [('wed', 87), ('bliss', 83), ('day', 51), ('coordin', 29), ('detail', 22), ('work', 21), ('plan', 21), ('could', 20), ('made', 20), ('teresa', 19)] \n",
      "\n",
      "Top 10 most frequent words in B2 before stemming: [('beer', 126), ('good', 100), ('great', 100), ('food', 99), ('service', 58), ('place', 58), ('sockeye', 52), ('like', 39), ('salmon', 38), ('really', 37)] \n",
      "\n",
      "Top 10 most frequent words in B2 after stemming: [('beer', 158), ('food', 100), ('good', 100), ('great', 100), ('place', 66), ('servic', 59), ('sockey', 54), ('like', 47), ('time', 39), ('salmon', 38)] \n",
      "\n"
     ]
    }
   ],
   "source": [
    "# Display top 10 most frequent words before and after stemming\n",
    "print(\"Top 10 most frequent words in B1 before stemming:\", B1_word_freq_before.most_common(10), \"\\n\")\n",
    "print(\"Top 10 most frequent words in B1 after stemming:\", B1_word_freq_after.most_common(10), \"\\n\")\n",
    "print(\"Top 10 most frequent words in B2 before stemming:\", B2_word_freq_before.most_common(10), \"\\n\")\n",
    "print(\"Top 10 most frequent words in B2 after stemming:\", B2_word_freq_after.most_common(10), \"\\n\")"
   ]
  },
  {
   "cell_type": "code",
   "execution_count": null,
   "metadata": {},
   "outputs": [],
   "source": []
  }
 ],
 "metadata": {
  "colab": {
   "provenance": []
  },
  "kernelspec": {
   "display_name": "Python 3 (ipykernel)",
   "language": "python",
   "name": "python3"
  },
  "language_info": {
   "codemirror_mode": {
    "name": "ipython",
    "version": 3
   },
   "file_extension": ".py",
   "mimetype": "text/x-python",
   "name": "python",
   "nbconvert_exporter": "python",
   "pygments_lexer": "ipython3",
   "version": "3.12.4"
  }
 },
 "nbformat": 4,
 "nbformat_minor": 4
}
